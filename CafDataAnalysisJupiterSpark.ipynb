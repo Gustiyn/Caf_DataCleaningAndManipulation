{
 "cells": [
  {
   "cell_type": "markdown",
   "metadata": {},
   "source": [
    "**Manipulation et analyse des données de la répartition des allocataires percevant au moins une prestation légale selon le quotient familial [EPCI] avec SPARK SQL**"
   ]
  },
  {
   "cell_type": "markdown",
   "metadata": {},
   "source": [
    "Voici un dashboard Tableau interactif offrant une meilleure visualisation des données : \n",
    "\n",
    "[bfc_data.stat.corr(\"nb_pers_apl\", \"mt_total_apl\")](https://public.tableau.com/app/profile/komlan.augustin.n.guissan/viz/RpartitiondesallocatairespercevantaumoinsuneprestationlgaleselonlequotientfamilialEPCI/DashboardCafData)"
   ]
  },
  {
   "cell_type": "code",
   "execution_count": 1,
   "metadata": {},
   "outputs": [],
   "source": [
    "# Importation des librairies\n",
    "import os\n",
    "import pandas as pd\n",
    "import matplotlib.pyplot as plt\n",
    "from pyspark.sql import SparkSession\n",
    "from pyspark.sql.functions import year"
   ]
  },
  {
   "cell_type": "code",
   "execution_count": 2,
   "metadata": {},
   "outputs": [],
   "source": [
    "# Création de la session Spark\n",
    "spark = SparkSession \\\n",
    "    .builder \\\n",
    "    .appName(\"SparkSQLQueryDataframes\") \\\n",
    "    .getOrCreate()"
   ]
  },
  {
   "cell_type": "code",
   "execution_count": 3,
   "metadata": {},
   "outputs": [
    {
     "name": "stdout",
     "output_type": "stream",
     "text": [
      "+-------------------+-------+------------------+----------+----------------+--------------------+-----------------------+---------------------+----------------------+------------------------+----------------------+-----------------------+--------------------------+------------------------+-------------------------+-------------+-----------+------------+------------------------------+----------------------------+-----------------------------+--------------------+\n",
      "|               date|num_dep|           nom_dep|num_region|      nom_region|         qt_familial|nb_foyers_presta_legale|nb_pers_presta_legale|mt_total_presta_legale|nb_foyers_petite_enfance|nb_pers_petite_enfance|mt_total_petite_enfance|nb_foyers_enfance_jeunesse|nb_pers_enfance_jeunesse|mt_total_enfance_jeunesse|nb_foyers_apl|nb_pers_apl|mt_total_apl|nb_foyers_solidarite_insertion|nb_pers_solidarite_insertion|mt_total_solidarite_insertion|      lieu_residence|\n",
      "+-------------------+-------+------------------+----------+----------------+--------------------+-----------------------+---------------------+----------------------+------------------------+----------------------+-----------------------+--------------------------+------------------------+-------------------------+-------------+-----------+------------+------------------------------+----------------------------+-----------------------------+--------------------+\n",
      "|2018-07-01 00:00:00|     53|           MAYENNE|        52|PAYS DE LA LOIRE|Entre 1200 et 159...|                   6817|                26806|               2231380|                    2565|                  9293|                1068817|                      5388|                   22677|                  1061757|           53|        117|        6338|                           149|                         363|                        18295|PAYS DE LA LOIRE/...|\n",
      "|2018-07-01 00:00:00|     53|           MAYENNE|        52|PAYS DE LA LOIRE|Entre 2000 et 399...|                   1132|                 4626|                154032|                     228|                   866|                  51207|                      1035|                    4340|                    96399|            1|          2|         336|                             1|                           2|                          118|PAYS DE LA LOIRE/...|\n",
      "|2018-07-01 00:00:00|     53|           MAYENNE|        52|PAYS DE LA LOIRE|  Entre 4000 ou plus|                    133|                  554|                 11676|                      21|                    75|                   3967|                       120|                     516|                     6851|            0|          0|           0|                             1|                           2|                          111|PAYS DE LA LOIRE/...|\n",
      "|2018-07-01 00:00:00|     54|MEURTHE ET MOSELLE|        44|       GRAND EST|  Entre 4000 ou plus|                    500|                 2050|                 52210|                      99|                   373|                  25261|                       449|                    1896|                    22204|            0|          0|           0|                             2|                           5|                          793|GRAND EST/MEURTHE...|\n",
      "|2018-07-01 00:00:00|     55|             MEUSE|        44|       GRAND EST|  Moins de 400 euros|                   7166|                11093|               3511553|                     360|                  1297|                  92773|                      1137|                    4053|                   357994|         4545|       7190|     1145289|                          4433|                        7006|                      1767349|     GRAND EST/MEUSE|\n",
      "+-------------------+-------+------------------+----------+----------------+--------------------+-----------------------+---------------------+----------------------+------------------------+----------------------+-----------------------+--------------------------+------------------------+-------------------------+-------------+-----------+------------+------------------------------+----------------------------+-----------------------------+--------------------+\n",
      "only showing top 5 rows\n",
      "\n"
     ]
    }
   ],
   "source": [
    "# Chargement des données\n",
    "data = spark.read.format(\"csv\").load(\"CAF_cleanedForSQL.csv\", header=True, inferSchema= True, sep=\",\")\n",
    "data.createOrReplaceTempView(\"data\")\n",
    "data.show(5)"
   ]
  },
  {
   "cell_type": "code",
   "execution_count": 4,
   "metadata": {},
   "outputs": [
    {
     "data": {
      "text/plain": [
       "81365"
      ]
     },
     "execution_count": 4,
     "metadata": {},
     "output_type": "execute_result"
    }
   ],
   "source": [
    "data.count()"
   ]
  },
  {
   "cell_type": "markdown",
   "metadata": {},
   "source": [
    "**La base de données contient 81 365 observations**"
   ]
  },
  {
   "cell_type": "markdown",
   "metadata": {},
   "source": [
    "**EXPLICATION DES VARIABLES**\n",
    "\n",
    "**date** : *Mois de droit*  \n",
    "**num_dep** : *Numéro du Département*  \n",
    "**nom_dep** : *Nom du Département*  \n",
    "**num_region** : *Numéro de la Région*  \n",
    "**nom_region** : *Nom de la Région*  \n",
    "**qt_familial** : *Quotient Familiale*  \n",
    "**nb_foyers_presta_legale** : *Nombre de Foyers bénéficiares d'au moins une prestation légale selon le quotient familiale*  \n",
    "**nb_pers_presta_legale** : *Nombre de Personnes appartenant à un foyer bénéficiare d'au moins une prestation légale selon le quotient familiale*  \n",
    "**mt_total_presta_legale** : *Montant total d'au moins une prestation légale selon le quotient familiale*  \n",
    "**nb_foyers_petite_enfance** : *Nombre de Foyers bénéficiares d'au moins une prestation petite enfance selon le quotient familiale*  \n",
    "**nb_pers_petite_enfance** : *Nombre de Personnes appartenant à un foyer bénéficiare d'au moins une prestation petite enfance selon le quotient familiale*  \n",
    "**mt_total_petite_enfance** : *Montant total d'au moins une prestation petite enfance selon le quotient familiale*  \n",
    "**nb_foyers_enfance_jeunesse** : *Nombre de Foyers bénéficiares d'au moins une prestation enfance jeunesse selon le quotient familiale*  \n",
    "**nb_pers_enfance_jeunesse** : *Nombre de Personnes appartenant à un foyer bénéficiare d'au moins une prestation enfance jeunesse selon le quotient familiale*  \n",
    "**mt_total_enfance_jeunesse** : *Montant total d'au moins une prestation enfance jeunesse selon le quotient familiale*  \n",
    "**nb_foyers_apl** : *Nombre de Foyers bénéficiares d'au moins une prestation d'aide au logement selon le quotient familiale*  \n",
    "**nb_pers_apl** : *Nombre de Personnes appartenant à un foyer bénéficiare d'au moins une prestation d'aide au logement selon le quotient familiale*  \n",
    "**mt_total_apl** : *Montant total d'au moins une prestation d'aide au logement selon le quotient familiale*  \n",
    "**nb_foyers_solidarite_insertion** : *Nombre de Foyers bénéficiares d'au moins une prestation solidarité insertion selon le quotient familiale*  \n",
    "**nb_pers_solidarite_insertion** : *Nombre de Personnes appartenant à un foyer bénéficiare d'au moins une prestation solidarité insertion selon le quotient familiale*  \n",
    "**mt_total_solidarite_insertion** : *Montant total d'au moins une prestation solidarité insertion selon le quotient familiale*  \n",
    "**lieu_residence** : *Lieu de résidence des bénéficiares des prestations*"
   ]
  },
  {
   "cell_type": "code",
   "execution_count": 5,
   "metadata": {},
   "outputs": [
    {
     "name": "stdout",
     "output_type": "stream",
     "text": [
      "+----------+-------+------------------+----------+----------------+--------------------+-----------------------+---------------------+----------------------+------------------------+----------------------+-----------------------+--------------------------+------------------------+-------------------------+-------------+-----------+------------+------------------------------+----------------------------+-----------------------------+--------------------+\n",
      "|      date|num_dep|           nom_dep|num_region|      nom_region|         qt_familial|nb_foyers_presta_legale|nb_pers_presta_legale|mt_total_presta_legale|nb_foyers_petite_enfance|nb_pers_petite_enfance|mt_total_petite_enfance|nb_foyers_enfance_jeunesse|nb_pers_enfance_jeunesse|mt_total_enfance_jeunesse|nb_foyers_apl|nb_pers_apl|mt_total_apl|nb_foyers_solidarite_insertion|nb_pers_solidarite_insertion|mt_total_solidarite_insertion|      lieu_residence|\n",
      "+----------+-------+------------------+----------+----------------+--------------------+-----------------------+---------------------+----------------------+------------------------+----------------------+-----------------------+--------------------------+------------------------+-------------------------+-------------+-----------+------------+------------------------------+----------------------------+-----------------------------+--------------------+\n",
      "|2018-07-01|     53|           MAYENNE|        52|PAYS DE LA LOIRE|Entre 1200 et 159...|                   6817|                26806|               2231380|                    2565|                  9293|                1068817|                      5388|                   22677|                  1061757|           53|        117|        6338|                           149|                         363|                        18295|PAYS DE LA LOIRE/...|\n",
      "|2018-07-01|     53|           MAYENNE|        52|PAYS DE LA LOIRE|Entre 2000 et 399...|                   1132|                 4626|                154032|                     228|                   866|                  51207|                      1035|                    4340|                    96399|            1|          2|         336|                             1|                           2|                          118|PAYS DE LA LOIRE/...|\n",
      "|2018-07-01|     53|           MAYENNE|        52|PAYS DE LA LOIRE|  Entre 4000 ou plus|                    133|                  554|                 11676|                      21|                    75|                   3967|                       120|                     516|                     6851|            0|          0|           0|                             1|                           2|                          111|PAYS DE LA LOIRE/...|\n",
      "|2018-07-01|     54|MEURTHE ET MOSELLE|        44|       GRAND EST|  Entre 4000 ou plus|                    500|                 2050|                 52210|                      99|                   373|                  25261|                       449|                    1896|                    22204|            0|          0|           0|                             2|                           5|                          793|GRAND EST/MEURTHE...|\n",
      "|2018-07-01|     55|             MEUSE|        44|       GRAND EST|  Moins de 400 euros|                   7166|                11093|               3511553|                     360|                  1297|                  92773|                      1137|                    4053|                   357994|         4545|       7190|     1145289|                          4433|                        7006|                      1767349|     GRAND EST/MEUSE|\n",
      "+----------+-------+------------------+----------+----------------+--------------------+-----------------------+---------------------+----------------------+------------------------+----------------------+-----------------------+--------------------------+------------------------+-------------------------+-------------+-----------+------------+------------------------------+----------------------------+-----------------------------+--------------------+\n",
      "only showing top 5 rows\n",
      "\n"
     ]
    }
   ],
   "source": [
    "#Conversion de la colonne date en format date\n",
    "data = data.withColumn(\"date\", data[\"date\"].cast(\"date\"))\n",
    "data.show(5)"
   ]
  },
  {
   "cell_type": "code",
   "execution_count": 6,
   "metadata": {},
   "outputs": [
    {
     "name": "stdout",
     "output_type": "stream",
     "text": [
      "+----------+-------+-------+----------+--------------------+--------------------+-----------------------+---------------------+----------------------+------------------------+----------------------+-----------------------+--------------------------+------------------------+-------------------------+-------------+-----------+------------+------------------------------+----------------------------+-----------------------------+--------------------+\n",
      "|      date|num_dep|nom_dep|num_region|          nom_region|         qt_familial|nb_foyers_presta_legale|nb_pers_presta_legale|mt_total_presta_legale|nb_foyers_petite_enfance|nb_pers_petite_enfance|mt_total_petite_enfance|nb_foyers_enfance_jeunesse|nb_pers_enfance_jeunesse|mt_total_enfance_jeunesse|nb_foyers_apl|nb_pers_apl|mt_total_apl|nb_foyers_solidarite_insertion|nb_pers_solidarite_insertion|mt_total_solidarite_insertion|      lieu_residence|\n",
      "+----------+-------+-------+----------+--------------------+--------------------+-----------------------+---------------------+----------------------+------------------------+----------------------+-----------------------+--------------------------+------------------------+-------------------------+-------------+-----------+------------+------------------------------+----------------------------+-----------------------------+--------------------+\n",
      "|2016-06-01|     01|    AIN|        84|AUVERGNE RHONE ALPES|  Moins de 400 euros|                  15698|                26368|               7163987|                    1152|                  4166|                 343043|                      2985|                   11189|                   788149|        10237|      17728|     2804510|                          8507|                       14175|                      2938198|AUVERGNE RHONE AL...|\n",
      "|2016-06-01|     01|    AIN|        84|AUVERGNE RHONE ALPES|Entre 400 et 799 ...|                  34707|                86366|              17443437|                    5314|                 21770|                1900387|                     13844|                   57004|                  4228367|        25973|      66255|     5169011|                         10929|                       24827|                      2598159|AUVERGNE RHONE AL...|\n",
      "|2016-06-01|     01|    AIN|        84|AUVERGNE RHONE ALPES|Entre 1200 et 159...|                  13082|                51107|               4242182|                    5407|                 19763|                2113231|                     10238|                   42816|                  1906526|          111|        249|       17635|                           287|                         767|                        45450|AUVERGNE RHONE AL...|\n",
      "|2016-06-01|     01|    AIN|        84|AUVERGNE RHONE ALPES|Entre 800 et 1199...|                  17314|                65286|               7051282|                    5846|                 22999|                2334722|                     12849|                   54741|                  3277426|         2048|       6701|      257562|                          2602|                        6466|                       474527|AUVERGNE RHONE AL...|\n",
      "|2016-06-01|     01|    AIN|        84|AUVERGNE RHONE ALPES|Entre 1600 et 199...|                   6076|                23771|               1485485|                    2217|                  7914|                 668261|                      4874|                   20159|                   784384|           12|         24|        2043|                            31|                          81|                         5951|AUVERGNE RHONE AL...|\n",
      "+----------+-------+-------+----------+--------------------+--------------------+-----------------------+---------------------+----------------------+------------------------+----------------------+-----------------------+--------------------------+------------------------+-------------------------+-------------+-----------+------------+------------------------------+----------------------------+-----------------------------+--------------------+\n",
      "only showing top 5 rows\n",
      "\n"
     ]
    }
   ],
   "source": [
    "#ORGANISATION DES DONNEES\n",
    "data = data.sort(\"date\", \"num_dep\")\n",
    "data.show(5)"
   ]
  },
  {
   "cell_type": "code",
   "execution_count": 7,
   "metadata": {},
   "outputs": [
    {
     "name": "stdout",
     "output_type": "stream",
     "text": [
      "+----+----------------------------+------------------------------+----------------------------------+-----------------+\n",
      "|year|sum(mt_total_petite_enfance)|sum(mt_total_enfance_jeunesse)|sum(mt_total_solidarite_insertion)|sum(mt_total_apl)|\n",
      "+----+----------------------------+------------------------------+----------------------------------+-----------------+\n",
      "|2024|                  3832752985|                    9379437281|                       10679112603|       7701162044|\n",
      "|2023|                  7434410649|                   18280014758|                       21909237471|      14995071151|\n",
      "|2022|                  7320070127|                   16921085541|                       21201964533|      14910022634|\n",
      "|2021|                  7111168527|                   16267095736|                       21336697540|      15087543167|\n",
      "|2020|                  7103597785|                   16315363049|                       21724189073|      16082792345|\n",
      "|2019|                  7553282567|                   16271388668|                       20575001640|      16108345534|\n",
      "|2018|                  7814705252|                   15617121115|                       16476898144|      16328111880|\n",
      "|2017|                  8182053465|                   14243700376|                       15861131116|      17349746010|\n",
      "|2016|                  6140452535|                    8284988228|                        9096958644|      10227316237|\n",
      "+----+----------------------------+------------------------------+----------------------------------+-----------------+\n",
      "\n"
     ]
    }
   ],
   "source": [
    "# MONTANT TOTAL DES DIFFERENTES PRESTATIONS PAR ANNEE\n",
    "req_viz0 = spark.sql(\"SELECT year(date) as year, SUM(mt_total_petite_enfance), SUM(mt_total_enfance_jeunesse), SUM(mt_total_solidarite_insertion), SUM(mt_total_apl) \\\n",
    "                     FROM data \\\n",
    "                     GROUP BY year \\\n",
    "                     ORDER BY year DESC\")\n",
    "\n",
    "req_viz0.show()"
   ]
  },
  {
   "cell_type": "code",
   "execution_count": 16,
   "metadata": {},
   "outputs": [
    {
     "name": "stdout",
     "output_type": "stream",
     "text": [
      "+----+----------------------------+------------------------------+----------------------------------+-----------------+-----------+-------------+\n",
      "|year|sum(mt_total_petite_enfance)|sum(mt_total_enfance_jeunesse)|sum(mt_total_solidarite_insertion)|sum(mt_total_apl)|      total|autres_presta|\n",
      "+----+----------------------------+------------------------------+----------------------------------+-----------------+-----------+-------------+\n",
      "|2024|                  3832752985|                    9379437281|                       10679112603|       7701162044|31592464913|   7214287858|\n",
      "|2023|                  7434410649|                   18280014758|                       21909237471|      14995071151|62618734029|  13533751297|\n",
      "|2022|                  7320070127|                   16921085541|                       21201964533|      14910022634|60353142835|  12626355704|\n",
      "|2021|                  7111168527|                   16267095736|                       21336697540|      15087543167|59802504970|  11831168434|\n",
      "|2020|                  7103597785|                   16315363049|                       21724189073|      16082792345|61225942252|  11573292164|\n",
      "|2019|                  7553282567|                   16271388668|                       20575001640|      16108345534|60508018409|  10846935294|\n",
      "|2018|                  7814705252|                   15617121115|                       16476898144|      16328111880|56236836391|  10092267606|\n",
      "|2017|                  8182053465|                   14243700376|                       15861131116|      17349746010|55636630967|   9615584051|\n",
      "|2016|                  6140452535|                    8284988228|                        9096958644|      10227316237|33749715644|   5461024989|\n",
      "+----+----------------------------+------------------------------+----------------------------------+-----------------+-----------+-------------+\n",
      "\n"
     ]
    }
   ],
   "source": [
    "# MONTANT TOTAL DES DIFFERENTES PRESTATIONS PAR ANNEE\n",
    "req_viz0 = spark.sql(\"SELECT year(date) as year, SUM(mt_total_petite_enfance), SUM(mt_total_enfance_jeunesse), SUM(mt_total_solidarite_insertion), SUM(mt_total_apl), \\\n",
    "                        SUM(mt_total_petite_enfance) + SUM(mt_total_enfance_jeunesse) + SUM(mt_total_solidarite_insertion) + SUM(mt_total_apl) as total, \\\n",
    "                            SUM(mt_total_presta_legale) - total as autres_presta \\\n",
    "                     FROM data \\\n",
    "                     GROUP BY year \\\n",
    "                     ORDER BY year DESC\")\n",
    "\n",
    "req_viz0.show()"
   ]
  },
  {
   "cell_type": "markdown",
   "metadata": {},
   "source": [
    "**On observe une différence notable entre le montant total des diverses prestations et celui des prestations légales. Cela pourrait être dû à des arrondis ou bien refléter d'autres prestations non précisées dans la base de données.**"
   ]
  },
  {
   "cell_type": "markdown",
   "metadata": {},
   "source": [
    "**EXTRACTION ET ANALYSE DES DONNEES DE LA BOURGOGNE FRANCHE-COMTE**"
   ]
  },
  {
   "cell_type": "code",
   "execution_count": 25,
   "metadata": {},
   "outputs": [
    {
     "name": "stdout",
     "output_type": "stream",
     "text": [
      "+----------+-------+--------------------+----------+--------------------+--------------------+-----------------------+---------------------+----------------------+------------------------+----------------------+-----------------------+--------------------------+------------------------+-------------------------+-------------+-----------+------------+------------------------------+----------------------------+-----------------------------+--------------------+\n",
      "|      date|num_dep|             nom_dep|num_region|          nom_region|         qt_familial|nb_foyers_presta_legale|nb_pers_presta_legale|mt_total_presta_legale|nb_foyers_petite_enfance|nb_pers_petite_enfance|mt_total_petite_enfance|nb_foyers_enfance_jeunesse|nb_pers_enfance_jeunesse|mt_total_enfance_jeunesse|nb_foyers_apl|nb_pers_apl|mt_total_apl|nb_foyers_solidarite_insertion|nb_pers_solidarite_insertion|mt_total_solidarite_insertion|      lieu_residence|\n",
      "+----------+-------+--------------------+----------+--------------------+--------------------+-----------------------+---------------------+----------------------+------------------------+----------------------+-----------------------+--------------------------+------------------------+-------------------------+-------------+-----------+------------+------------------------------+----------------------------+-----------------------------+--------------------+\n",
      "|2018-07-01|     58|              NIEVRE|        27|BOURGOGNE FRANCHE...|  Moins de 400 euros|                   8991|                13957|               4391915|                     503|                  1927|                 134975|                      1422|                    5217|                   472756|         5739|       8705|     1402610|                          4984|                        8265|                      2048659|BOURGOGNE FRANCHE...|\n",
      "|2018-07-01|     70|         HAUTE SAONE|        27|BOURGOGNE FRANCHE...|  Entre 4000 ou plus|                     78|                  313|                  7463|                      15|                    60|                   2328|                        73|                     299|                     3325|            0|          0|           0|                             2|                           6|                         1810|BOURGOGNE FRANCHE...|\n",
      "|2018-07-01|     89|               YONNE|        27|BOURGOGNE FRANCHE...|Entre 1200 et 159...|                   5511|                20882|               1678776|                    2255|                  8006|                 780819|                      4057|                   16764|                   744199|           97|        207|       12809|                           171|                         426|                        27352|BOURGOGNE FRANCHE...|\n",
      "|2018-07-01|     90|TERRITOIRE DE BEL...|        27|BOURGOGNE FRANCHE...|  Moins de 400 euros|                   7043|                10716|               3200958|                     378|                  1444|                  98889|                      1017|                    3708|                   336039|         5384|       8389|     1269609|                          3599|                        5962|                      1401066|BOURGOGNE FRANCHE...|\n",
      "|2018-07-01|     90|TERRITOIRE DE BEL...|        27|BOURGOGNE FRANCHE...|Entre 400 et 799 ...|                  10455|                24957|               5834622|                    1434|                  5731|                 415061|                      3824|                   15598|                  1447681|         8008|      20201|     1541810|                          4470|                       10724|                      1296163|BOURGOGNE FRANCHE...|\n",
      "+----------+-------+--------------------+----------+--------------------+--------------------+-----------------------+---------------------+----------------------+------------------------+----------------------+-----------------------+--------------------------+------------------------+-------------------------+-------------+-----------+------------+------------------------------+----------------------------+-----------------------------+--------------------+\n",
      "only showing top 5 rows\n",
      "\n"
     ]
    }
   ],
   "source": [
    "bfc_data = data[data.num_region == 27]\n",
    "bfc_data.createOrReplaceTempView(\"bfc_data\")\n",
    "\n",
    "bfc_data.show(5)"
   ]
  },
  {
   "cell_type": "code",
   "execution_count": 31,
   "metadata": {},
   "outputs": [
    {
     "name": "stdout",
     "output_type": "stream",
     "text": [
      "+----+--------------------+----------------------------+------------------------------+----------------------------------+-----------------+\n",
      "|year|             nom_dep|sum(mt_total_petite_enfance)|sum(mt_total_enfance_jeunesse)|sum(mt_total_solidarite_insertion)|sum(mt_total_apl)|\n",
      "+----+--------------------+----------------------------+------------------------------+----------------------------------+-----------------+\n",
      "|2024|           COTE D OR|                    29878495|                      61393120|                          66550185|         58785691|\n",
      "|2024|               DOUBS|                    29674414|                      70930300|                          74413471|         59558728|\n",
      "|2024|         HAUTE SAONE|                    12701416|                      28725623|                          27891385|         17498502|\n",
      "|2024|                JURA|                    12844291|                      29010691|                          25774704|         18082271|\n",
      "|2024|              NIEVRE|                     8104212|                      21532101|                          32146235|         20587825|\n",
      "|2024|      SAONE ET LOIRE|                    29714019|                      67534728|                          64400316|         46398300|\n",
      "|2024|TERRITOIRE DE BEL...|                     6804274|                      19403520|                          23247688|         16267181|\n",
      "|2024|               YONNE|                    16616238|                      44333262|                          51696898|         29036321|\n",
      "+----+--------------------+----------------------------+------------------------------+----------------------------------+-----------------+\n",
      "\n"
     ]
    }
   ],
   "source": [
    "#MONTANT TOTAL DES DIFFERENTES PRESTATIONS EN 2024 REGROUPEES PAR DEPARTEMENT\n",
    "req_viz1 = spark.sql(\"SELECT year(date) as year, nom_dep, SUM(mt_total_petite_enfance), SUM(mt_total_enfance_jeunesse), SUM(mt_total_solidarite_insertion), SUM(mt_total_apl) \\\n",
    "                     FROM bfc_data \\\n",
    "                     WHERE year(date) = 2024 \\\n",
    "                     GROUP BY year, nom_dep \\\n",
    "                     ORDER BY nom_dep\")\n",
    "\n",
    "req_viz1.show()"
   ]
  },
  {
   "cell_type": "code",
   "execution_count": 36,
   "metadata": {},
   "outputs": [
    {
     "data": {
      "text/plain": [
       "0.9949612394279629"
      ]
     },
     "execution_count": 36,
     "metadata": {},
     "output_type": "execute_result"
    }
   ],
   "source": [
    "#TEST DE CORRELATION ENTRE LE NOMBRE DE FOYERS BENEFICIAIRES DE L'APL ET LE MONTANT TOTAL DES APL\n",
    "bfc_data.stat.corr(\"nb_foyers_apl\", \"mt_total_apl\")"
   ]
  },
  {
   "cell_type": "code",
   "execution_count": 37,
   "metadata": {},
   "outputs": [
    {
     "data": {
      "text/plain": [
       "0.9553142138443919"
      ]
     },
     "execution_count": 37,
     "metadata": {},
     "output_type": "execute_result"
    }
   ],
   "source": [
    "#TEST DE CORRELATION ENTRE LE NOMBRE DE PERSONNES BENEFICIAIRES DE L'APL ET LE MONTANT TOTAL DES APL\n",
    "bfc_data.stat.corr(\"nb_pers_apl\", \"mt_total_apl\")"
   ]
  },
  {
   "cell_type": "markdown",
   "metadata": {},
   "source": [
    "***Comme on pouvait s'y attendre, le nombre de foyers bénéficiaires de l'APL et le montant total des APL sont fortement corrélés.\n",
    "De même, le nombre de personnes bénéficiaires de l'APL et le montant total des APL sont fortement corrélés.***"
   ]
  }
 ],
 "metadata": {
  "kernelspec": {
   "display_name": "Python 3",
   "language": "python",
   "name": "python3"
  },
  "language_info": {
   "codemirror_mode": {
    "name": "ipython",
    "version": 3
   },
   "file_extension": ".py",
   "mimetype": "text/x-python",
   "name": "python",
   "nbconvert_exporter": "python",
   "pygments_lexer": "ipython3",
   "version": "3.13.1"
  }
 },
 "nbformat": 4,
 "nbformat_minor": 2
}
